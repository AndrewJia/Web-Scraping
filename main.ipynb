{
 "cells": [
  {
   "cell_type": "code",
   "execution_count": null,
   "metadata": {},
   "outputs": [],
   "source": [
    "%pip install selenium\n",
    "%pip install webdriver_manager"
   ]
  },
  {
   "cell_type": "code",
   "execution_count": 20,
   "metadata": {},
   "outputs": [
    {
     "name": "stdout",
     "output_type": "stream",
     "text": [
      "number of future matches is 40\n",
      "2\n",
      "TL100\n",
      "2\n",
      "NRGC9\n",
      "2\n",
      "FLYSR\n",
      "2\n",
      "IMTDIG\n",
      "2\n",
      "TLSR\n",
      "2\n",
      "C9100\n",
      "2\n",
      "IMTFLY\n",
      "2\n",
      "NRGDIG\n"
     ]
    }
   ],
   "source": [
    "from selenium import webdriver \n",
    "from selenium.webdriver.common.by import By \n",
    "from selenium.webdriver.chrome.service import Service as ChromeService \n",
    "from webdriver_manager.chrome import ChromeDriverManager \n",
    "\n",
    "options = webdriver.ChromeOptions() \n",
    "options.headless = True \n",
    "\n",
    "driver = webdriver.Chrome(service=ChromeService( \n",
    "\tChromeDriverManager().install()), options=options) \n",
    "url = 'https://lolesports.com/schedule?leagues=lcs'\n",
    "driver.get(url) \n",
    "\n",
    "\n",
    "# select elements by class name \n",
    "matches = driver.find_elements(By.CSS_SELECTOR, 'div:has(> .future.event') \n",
    "print('number of future matches is ' + str(len(matches)))\n",
    "\n",
    "for match in matches[:8]: \n",
    "\tname = match.find_elements(By.CSS_SELECTOR, '.tricode')\n",
    "\tprint(name[0].text + ' VS ' + name[1].text)\n",
    "\n",
    "driver.close()\n",
    "driver.quit()"
   ]
  }
 ],
 "metadata": {
  "kernelspec": {
   "display_name": "Python 3",
   "language": "python",
   "name": "python3"
  },
  "language_info": {
   "codemirror_mode": {
    "name": "ipython",
    "version": 3
   },
   "file_extension": ".py",
   "mimetype": "text/x-python",
   "name": "python",
   "nbconvert_exporter": "python",
   "pygments_lexer": "ipython3",
   "version": "3.12.0"
  }
 },
 "nbformat": 4,
 "nbformat_minor": 2
}

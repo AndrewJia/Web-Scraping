{
 "cells": [
  {
   "cell_type": "code",
   "execution_count": null,
   "metadata": {},
   "outputs": [],
   "source": [
    "%pip install selenium\n",
    "%pip install webdriver_manager"
   ]
  },
  {
   "cell_type": "code",
   "execution_count": null,
   "metadata": {},
   "outputs": [],
   "source": [
    "from selenium import webdriver \n",
    "from selenium.webdriver.common.by import By \n",
    "from selenium.webdriver.chrome.service import Service as ChromeService \n",
    "from webdriver_manager.chrome import ChromeDriverManager "
   ]
  },
  {
   "cell_type": "code",
   "execution_count": null,
   "metadata": {},
   "outputs": [],
   "source": [
    "options = webdriver.ChromeOptions() \n",
    "options.headless = True "
   ]
  },
  {
   "cell_type": "code",
   "execution_count": 19,
   "metadata": {},
   "outputs": [
    {
     "name": "stdout",
     "output_type": "stream",
     "text": [
      "number of future things is 53\n",
      "February 3 1PM TL VS DIG\n",
      "February 3 2PM FLY VS C9\n",
      "February 3 3PM IMT VS 100\n",
      "February 3 4PM NRG VS SR\n",
      "February 4 1PM FLY VS DIG\n",
      "February 4 2PM TL VS C9\n",
      "February 4 3PM 100 VS SR\n",
      "February 4 4PM NRG VS IMT\n",
      "February 10 1PM NRG VS C9\n",
      "February 10 2PM IMT VS DIG\n",
      "February 10 3PM TL VS 100\n",
      "February 10 4PM FLY VS SR\n",
      "February 11 1PM C9 VS 100\n",
      "February 11 2PM NRG VS DIG\n",
      "February 11 3PM TL VS SR\n",
      "February 11 4PM IMT VS FLY\n"
     ]
    }
   ],
   "source": [
    "driver = webdriver.Chrome(service=ChromeService( \n",
    "\tChromeDriverManager().install()), options=options) \n",
    "url = 'https://lolesports.com/schedule?leagues=lcs'\n",
    "driver.get(url) \n",
    "\n",
    "# select Dates and Matches after Future Divider\n",
    "datesAndMatches = driver.find_elements(By.CSS_SELECTOR, '.future.divider ~ .EventMatch, .future.divider ~ .EventDate') \n",
    "print('number of future things is ' + str(len(datesAndMatches)))\n",
    "\n",
    "nextDate = 'xdd'\n",
    "for match in datesAndMatches[:20]: \n",
    "\t# Date\n",
    "\tif match.get_attribute('class') == 'EventDate':\n",
    "\t\tnextDate = match.find_element(By.CLASS_NAME, 'monthday').text\n",
    "\n",
    "\t# Match\n",
    "\telse:\n",
    "\t\tnames = match.find_elements(By.CLASS_NAME, 'tricode')\n",
    "\t\tnames = [n.text for n in names]\n",
    "\t\thour = match.find_element(By.CLASS_NAME, 'hour').text\n",
    "\t\tampm = match.find_element(By.CLASS_NAME, 'ampm').text\n",
    "\t\tprint(f'{nextDate} {hour}{ampm} {names[0]} VS {names[1]}')\n",
    "\n",
    "\n",
    "\t\n",
    "\n",
    "driver.close()\n",
    "driver.quit()"
   ]
  }
 ],
 "metadata": {
  "kernelspec": {
   "display_name": "Python 3",
   "language": "python",
   "name": "python3"
  },
  "language_info": {
   "codemirror_mode": {
    "name": "ipython",
    "version": 3
   },
   "file_extension": ".py",
   "mimetype": "text/x-python",
   "name": "python",
   "nbconvert_exporter": "python",
   "pygments_lexer": "ipython3",
   "version": "3.12.0"
  }
 },
 "nbformat": 4,
 "nbformat_minor": 2
}
